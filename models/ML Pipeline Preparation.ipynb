{
 "cells": [
  {
   "cell_type": "markdown",
   "metadata": {},
   "source": [
    "# ML Pipeline Preparation\n",
    "Follow the instructions below to help you create your ML pipeline.\n",
    "### 1. Import libraries and load data from database.\n",
    "- Import Python libraries\n",
    "- Load dataset from database with [`read_sql_table`](https://pandas.pydata.org/pandas-docs/stable/generated/pandas.read_sql_table.html)\n",
    "- Define feature and target variables X and Y"
   ]
  },
  {
   "cell_type": "code",
   "execution_count": 1,
   "metadata": {},
   "outputs": [
    {
     "name": "stdout",
     "output_type": "stream",
     "text": [
      "[nltk_data] Downloading package punkt to /root/nltk_data...\n",
      "[nltk_data]   Unzipping tokenizers/punkt.zip.\n",
      "[nltk_data] Downloading package stopwords to /root/nltk_data...\n",
      "[nltk_data]   Unzipping corpora/stopwords.zip.\n",
      "[nltk_data] Downloading package wordnet to /root/nltk_data...\n",
      "[nltk_data]   Unzipping corpora/wordnet.zip.\n",
      "[nltk_data] Downloading package averaged_perceptron_tagger to\n",
      "[nltk_data]     /root/nltk_data...\n",
      "[nltk_data]   Unzipping taggers/averaged_perceptron_tagger.zip.\n"
     ]
    },
    {
     "data": {
      "text/plain": [
       "True"
      ]
     },
     "execution_count": 1,
     "metadata": {},
     "output_type": "execute_result"
    }
   ],
   "source": [
    "# import libraries\n",
    "from nltk.corpus import stopwords\n",
    "\n",
    "import pickle\n",
    "from datetime import datetime\n",
    "from time import time\n",
    "\n",
    "import numpy as np\n",
    "import pandas as pd\n",
    "import re\n",
    "from nltk.stem.wordnet import WordNetLemmatizer\n",
    "from sqlalchemy import create_engine\n",
    "from sklearn.metrics import f1_score, precision_score, recall_score, accuracy_score, precision_recall_curve\n",
    "\n",
    "from sklearn.neighbors import KNeighborsClassifier\n",
    "from workspace_utils import active_session\n",
    "\n",
    "import nltk\n",
    "nltk.download('punkt')\n",
    "nltk.download('stopwords')\n",
    "nltk.download('wordnet')\n",
    "nltk.download('averaged_perceptron_tagger')"
   ]
  },
  {
   "cell_type": "code",
   "execution_count": 2,
   "metadata": {},
   "outputs": [],
   "source": [
    "def load_messages(database, table_name):\n",
    "    engine = create_engine('sqlite:///'+database)\n",
    "    df = pd.read_sql_table(table_name, engine, index_col='index')\n",
    "    X = df['message']\n",
    "    y = df.drop(columns=['id', 'message'])\n",
    "    return X, y, y.columns.values"
   ]
  },
  {
   "cell_type": "markdown",
   "metadata": {},
   "source": [
    "### 2. Write a tokenization function to process your text data"
   ]
  },
  {
   "cell_type": "code",
   "execution_count": 3,
   "metadata": {},
   "outputs": [],
   "source": [
    "stopwords_english = stopwords.words(\"english\")\n",
    "lemmatizer = WordNetLemmatizer()\n",
    "lemmatize = lemmatizer.lemmatize\n",
    "\n",
    "def tokenize_word(text):\n",
    "    \n",
    "    # Replace urls\n",
    "    url_regex = 'http[s]?://(?:[a-zA-Z]|[0-9]|[$-_@.&+]|[!*\\(\\),]|(?:%[0-9a-fA-F][0-9a-fA-F]))+'\n",
    "    text = re.sub(url_regex, \"url_placeholder\", text)\n",
    "    \n",
    "    # normalize case and remove punctuation\n",
    "    text = re.sub(r\"[^a-zA-Z0-9]\", \" \", text.lower())\n",
    "    \n",
    "    # tokenize text\n",
    "    tokens = nltk.word_tokenize(text)\n",
    "    \n",
    "    # lemmatize andremove stop words\n",
    "    tokens = [lemmatize(word) for word in tokens if word not in stopwords_english]\n",
    "\n",
    "    return tokens"
   ]
  },
  {
   "cell_type": "markdown",
   "metadata": {},
   "source": [
    "### 3. Build a machine learning pipeline\n",
    "\n",
    "This machine pipeline should take in the `message` column as input and output classification results on the other 36 categories in the dataset. You may find the [MultiOutputClassifier](http://scikit-learn.org/stable/modules/generated/sklearn.multioutput.MultiOutputClassifier.html) helpful for predicting multiple target variables."
   ]
  },
  {
   "cell_type": "code",
   "execution_count": 4,
   "metadata": {},
   "outputs": [],
   "source": [
    "\n",
    "from sklearn.feature_extraction.text import CountVectorizer, TfidfTransformer\n",
    "from sklearn.pipeline import Pipeline, FeatureUnion\n",
    "from sklearn.model_selection import train_test_split, GridSearchCV\n",
    "\n",
    "from sklearn.multioutput import MultiOutputClassifier\n",
    "\n",
    "from sklearn.linear_model import RidgeClassifier, LogisticRegression\n",
    "from sklearn.neighbors import KNeighborsClassifier, RadiusNeighborsClassifier\n",
    "from sklearn.neural_network import MLPClassifier\n",
    "from sklearn.ensemble import ExtraTreesClassifier, RandomForestClassifier, AdaBoostClassifier\n",
    "from sklearn.svm import SVC\n",
    "\n",
    "from sklearn.tree import DecisionTreeClassifier\n",
    "\n",
    "\n",
    "from sklearn.base import BaseEstimator, TransformerMixin\n",
    "\n",
    "\n",
    "from sklearn.ensemble import ExtraTreesClassifier, RandomForestClassifier\n",
    "from sklearn.neural_network import MLPClassifier"
   ]
  },
  {
   "cell_type": "code",
   "execution_count": 5,
   "metadata": {},
   "outputs": [],
   "source": [
    "def flat_pipeline(clf):\n",
    "    return Pipeline([\n",
    "        ('counts', CountVectorizer(tokenizer=tokenize_word)),\n",
    "        ('tfidf', TfidfTransformer()),\n",
    "        ('clf', clf)\n",
    "    ])\n"
   ]
  },
  {
   "cell_type": "markdown",
   "metadata": {},
   "source": [
    "### 3.1 Define the classifiers"
   ]
  },
  {
   "cell_type": "code",
   "execution_count": 6,
   "metadata": {},
   "outputs": [],
   "source": [
    "classifiers = [# KNeighborsClassifier(n_neighbors=20),\n",
    "               # MLPClassifier(),\n",
    "               # ExtraTreesClassifier(),\n",
    "               # RandomForestClassifier(n_estimators=150),\n",
    "                 MultiOutputClassifier(LogisticRegression()),\n",
    "                 MultiOutputClassifier(AdaBoostClassifier()),\n",
    "                 MultiOutputClassifier(DecisionTreeClassifier()),\n",
    "               # MultiOutputClassifier(SVC(gamma=2, C=1)),\n",
    "               # RandomForestClassifier(n_estimators=500, min_samples_split=5),\n",
    "               # DecisionTreeClassifier()\n",
    "              ]"
   ]
  },
  {
   "cell_type": "markdown",
   "metadata": {},
   "source": [
    "### 4. Train, evaluate and save pipeline\n",
    "- Split data into train and test sets\n",
    "- Train pipeline with different classifiers\n",
    "- Evaluate model\n",
    "- Save pipeline\n",
    "\n",
    "#### 4.1. Split data"
   ]
  },
  {
   "cell_type": "code",
   "execution_count": 7,
   "metadata": {
    "scrolled": false
   },
   "outputs": [],
   "source": [
    "#database = '../data/DisasterResponse.db'\n",
    "database = 'DisasterResponse.db'\n",
    "X, y, categories = load_messages(database=database, table_name='Messages')\n",
    "X_train, X_test, y_train, y_test = train_test_split(X, y, random_state=42)"
   ]
  },
  {
   "cell_type": "markdown",
   "metadata": {},
   "source": [
    "#### 4.2. Overall Evaluation\n",
    "\n",
    "Report the overall score of the model."
   ]
  },
  {
   "cell_type": "code",
   "execution_count": 8,
   "metadata": {},
   "outputs": [],
   "source": [
    "def evaluate_overall_results(y_test, y_pred):\n",
    "    \n",
    "    acc        = accuracy_score(y_test, y_pred)\n",
    "    f1_mic     = f1_score(y_test, y_pred, average='micro')\n",
    "    f1_mac     = f1_score(y_test, y_pred, average='macro')\n",
    "    f1_wei     = f1_score(y_test, y_pred, average='weighted')\n",
    "    f1_sam     = f1_score(y_test, y_pred, average='samples')\n",
    "    prec_mic   = precision_score(y_test, y_pred, average='micro')\n",
    "    prec_mac   = precision_score(y_test, y_pred, average='macro')\n",
    "    prec_wei   = precision_score(y_test, y_pred, average='weighted')\n",
    "    prec_sam   = precision_score(y_test, y_pred, average='samples')\n",
    "    recall_mic = recall_score(y_test, y_pred, average='micro')\n",
    "    recall_mac = recall_score(y_test, y_pred, average='macro')\n",
    "    recall_wei = recall_score(y_test, y_pred, average='weighted')\n",
    "    recall_sam = recall_score(y_test, y_pred, average='samples')\n",
    "    \n",
    "    # Print Metrics names\n",
    "    template = '|{:>8}  ' + ('|{:^31}' * 3) + '|'\n",
    "    print(template.format('Accuracy', 'F1', 'Precision', 'Recall'))\n",
    "    \n",
    "    # Print average types\n",
    "    template = '|{0:<8}{1:<8}{2:<8}{3:<7}' * 3\n",
    "    print('          ', template.format('Micro', 'Macro', 'Weight', 'Samples'))\n",
    "    \n",
    "    #Print metrics values\n",
    "    template = '{:<8.3}'*13\n",
    "    print('   ', template.format(acc,\n",
    "                          f1_mic,\n",
    "                          f1_mac,\n",
    "                          f1_wei,\n",
    "                          f1_sam,\n",
    "                          prec_mic,\n",
    "                          prec_mac,\n",
    "                          prec_wei,\n",
    "                          prec_sam,\n",
    "                          recall_mic,\n",
    "                          recall_mac,\n",
    "                          recall_wei,\n",
    "                          recall_sam))\n",
    "    return f1_mic\n"
   ]
  },
  {
   "cell_type": "markdown",
   "metadata": {},
   "source": [
    "#### 4.3. Individual scores\n",
    "Report the f1 score, precision and recall for each output category of the dataset. It is also possible to be done by iterating through the columns and calling sklearn's `classification_report` on each."
   ]
  },
  {
   "cell_type": "code",
   "execution_count": 9,
   "metadata": {},
   "outputs": [],
   "source": [
    "def evaluate_model_classes(y_test, preds, category_names):\n",
    "    \n",
    "    # Print header\n",
    "    print('='*70)\n",
    "    print('{:>25} {:>10} {:>10} {:>10} {:>10}'.format('Category', 'F1', 'Precision', 'Recall', 'Accuracy'))\n",
    "    print('-'*70)\n",
    "    \n",
    "    # Print score values\n",
    "    for i, cat_name in enumerate(category_names):\n",
    "        \n",
    "        cat_test = y_test.iloc[:, i]\n",
    "        cat_pred = preds[:, i]\n",
    "        \n",
    "        f1 = f1_score(cat_test, cat_pred)\n",
    "        prec = precision_score(cat_test, cat_pred)\n",
    "        rec = recall_score(cat_test, cat_pred)\n",
    "        acc = accuracy_score(cat_test, cat_pred)\n",
    "        \n",
    "        print('{:>25} {:>10.3f} {:>10.3f} {:>10.3f} {:>10.3f}'.format(cat_name, f1, prec, rec, acc))\n",
    "        \n",
    "    print('='*70)"
   ]
  },
  {
   "cell_type": "markdown",
   "metadata": {},
   "source": [
    "#### 4.4. Method to save and load models"
   ]
  },
  {
   "cell_type": "code",
   "execution_count": 10,
   "metadata": {},
   "outputs": [],
   "source": [
    "# Save\n",
    "def save_model(model, score):\n",
    "    file_name = \"model_f1_{:.4f}_{}.pkl\".format(score, datetime.now()).replace(':', '-')\n",
    "    print('Saving file:', file_name)\n",
    "    pickle.dump(model, open(file_name, \"wb\" ) )\n",
    "    return file_name\n",
    "\n",
    "def save_parameters(parameters, score):\n",
    "    \n",
    "    file_name = \"grid-parameters_f1_{:.4f}_{}.pkl\".format(score, datetime.now()).replace(':', '-')\n",
    "    print('Saving file:', file_name)\n",
    "    pickle.dump(parameters, open(file_name, \"wb\" ) )\n",
    "    \n",
    "    \n",
    "def load(file_name):\n",
    "    return pickle.load( open(file_name, \"rb\" ) )"
   ]
  },
  {
   "cell_type": "markdown",
   "metadata": {},
   "source": [
    "#### 4.5. Train pipeline with classifiers"
   ]
  },
  {
   "cell_type": "code",
   "execution_count": 11,
   "metadata": {
    "scrolled": false
   },
   "outputs": [],
   "source": [
    "def train_classifiers(pipeline_function, classifiers):\n",
    "    with active_session():\n",
    "    \n",
    "        file_names = []\n",
    "        for clf in classifiers:\n",
    "\n",
    "            name = str(clf)\n",
    "\n",
    "            pipeline = pipeline_function(clf)\n",
    "\n",
    "            t0 = datetime.now()\n",
    "            print(\"Training started:\", t0, \"\\nTraining\", name)\n",
    "\n",
    "            pipeline.fit(X_train, y_train)\n",
    "            t = datetime.now() - t0\n",
    "            print(\"Training time: {}\\nClassifier : {}\".format(t, name))\n",
    "\n",
    "            y_pred = pipeline.predict(X_test)\n",
    "\n",
    "            acc = evaluate_overall_results(y_test, y_pred)\n",
    "            file_names.append(save_model(pipeline, acc))\n",
    "            evaluate_model_classes(y_test, y_pred, categories)\n",
    "    \n",
    "        return file_names"
   ]
  },
  {
   "cell_type": "code",
   "execution_count": 12,
   "metadata": {
    "scrolled": false
   },
   "outputs": [
    {
     "name": "stdout",
     "output_type": "stream",
     "text": [
      "Training started: 2019-12-23 17:21:40.934362 \n",
      "Training MultiOutputClassifier(estimator=LogisticRegression(C=1.0, class_weight=None, dual=False, fit_intercept=True,\n",
      "          intercept_scaling=1, max_iter=100, multi_class='ovr', n_jobs=1,\n",
      "          penalty='l2', random_state=None, solver='liblinear', tol=0.0001,\n",
      "          verbose=0, warm_start=False),\n",
      "           n_jobs=1)\n",
      "Training time: 0:00:15.592001\n",
      "Classifier : MultiOutputClassifier(estimator=LogisticRegression(C=1.0, class_weight=None, dual=False, fit_intercept=True,\n",
      "          intercept_scaling=1, max_iter=100, multi_class='ovr', n_jobs=1,\n",
      "          penalty='l2', random_state=None, solver='liblinear', tol=0.0001,\n",
      "          verbose=0, warm_start=False),\n",
      "           n_jobs=1)\n"
     ]
    },
    {
     "name": "stderr",
     "output_type": "stream",
     "text": [
      "/opt/conda/lib/python3.6/site-packages/sklearn/metrics/classification.py:1135: UndefinedMetricWarning: F-score is ill-defined and being set to 0.0 in labels with no predicted samples.\n",
      "  'precision', 'predicted', average, warn_for)\n",
      "/opt/conda/lib/python3.6/site-packages/sklearn/metrics/classification.py:1135: UndefinedMetricWarning: F-score is ill-defined and being set to 0.0 in samples with no predicted labels.\n",
      "  'precision', 'predicted', average, warn_for)\n",
      "/opt/conda/lib/python3.6/site-packages/sklearn/metrics/classification.py:1137: UndefinedMetricWarning: F-score is ill-defined and being set to 0.0 in samples with no true labels.\n",
      "  'recall', 'true', average, warn_for)\n",
      "/opt/conda/lib/python3.6/site-packages/sklearn/metrics/classification.py:1135: UndefinedMetricWarning: Precision is ill-defined and being set to 0.0 in labels with no predicted samples.\n",
      "  'precision', 'predicted', average, warn_for)\n",
      "/opt/conda/lib/python3.6/site-packages/sklearn/metrics/classification.py:1135: UndefinedMetricWarning: Precision is ill-defined and being set to 0.0 in samples with no predicted labels.\n",
      "  'precision', 'predicted', average, warn_for)\n",
      "/opt/conda/lib/python3.6/site-packages/sklearn/metrics/classification.py:1137: UndefinedMetricWarning: Recall is ill-defined and being set to 0.0 in samples with no true labels.\n",
      "  'recall', 'true', average, warn_for)\n"
     ]
    },
    {
     "name": "stdout",
     "output_type": "stream",
     "text": [
      "|Accuracy  |              F1               |           Precision           |            Recall             |\n",
      "           |Micro   Macro   Weight  Samples|Micro   Macro   Weight  Samples|Micro   Macro   Weight  Samples\n",
      "    0.294   0.66    0.304   0.601   0.525   0.823   0.597   0.768   0.676   0.551   0.238   0.551   0.496   \n",
      "Saving file: model_f1_0.6599_2019-12-23 17-21-59.658506.pkl\n",
      "======================================================================\n",
      "                 Category         F1  Precision     Recall   Accuracy\n",
      "----------------------------------------------------------------------\n",
      "                  related      0.898      0.845      0.957      0.832\n",
      "                  request      0.657      0.842      0.538      0.902\n",
      "                    offer      0.000      0.000      0.000      0.996\n",
      "              aid_related      0.730      0.785      0.682      0.790\n",
      "             medical_help      0.247      0.568      0.158      0.926\n",
      "         medical_products      0.260      0.699      0.160      0.956\n",
      "        search_and_rescue      0.085      0.750      0.045      0.970\n",
      "                 security      0.000      0.000      0.000      0.981\n",
      "                 military      0.204      0.632      0.122      0.971\n",
      "                    water      0.619      0.814      0.500      0.961\n",
      "                     food      0.706      0.855      0.601      0.944\n",
      "                  shelter      0.552      0.801      0.421      0.937\n",
      "                 clothing      0.382      0.781      0.253      0.988\n",
      "                    money      0.149      0.667      0.084      0.979"
     ]
    },
    {
     "name": "stderr",
     "output_type": "stream",
     "text": [
      "/opt/conda/lib/python3.6/site-packages/sklearn/metrics/classification.py:1135: UndefinedMetricWarning: F-score is ill-defined and being set to 0.0 due to no predicted samples.\n",
      "  'precision', 'predicted', average, warn_for)\n",
      "/opt/conda/lib/python3.6/site-packages/sklearn/metrics/classification.py:1135: UndefinedMetricWarning: Precision is ill-defined and being set to 0.0 due to no predicted samples.\n",
      "  'precision', 'predicted', average, warn_for)\n"
     ]
    },
    {
     "name": "stdout",
     "output_type": "stream",
     "text": [
      "\n",
      "           missing_people      0.000      0.000      0.000      0.989\n",
      "                 refugees      0.122      0.625      0.068      0.967\n",
      "                    death      0.398      0.868      0.258      0.963\n",
      "                other_aid      0.206      0.624      0.123      0.872\n",
      "   infrastructure_related      0.023      0.385      0.012      0.934\n",
      "                transport      0.139      0.793      0.076      0.957\n",
      "                buildings      0.351      0.750      0.229      0.958\n",
      "              electricity      0.228      0.692      0.136      0.981\n",
      "                    tools      0.000      0.000      0.000      0.995\n",
      "                hospitals      0.033      0.500      0.017      0.991\n",
      "                    shops      0.000      0.000      0.000      0.995\n",
      "              aid_centers      0.000      0.000      0.000      0.988\n",
      "     other_infrastructure      0.007      0.143      0.003      0.954\n",
      "          weather_related      0.757      0.871      0.670      0.879\n",
      "                   floods      0.602      0.930      0.444      0.951\n",
      "                    storm      0.596      0.789      0.479      0.939\n",
      "                     fire      0.085      0.750      0.045      0.990\n",
      "               earthquake      0.750      0.873      0.656      0.958\n",
      "                     cold      0.205      0.833      0.117      0.982\n",
      "            other_weather      0.084      0.652      0.045      0.950\n",
      "            direct_report      0.559      0.769      0.439      0.863\n",
      "======================================================================\n",
      "Training started: 2019-12-23 17:21:59.978474 \n",
      "Training MultiOutputClassifier(estimator=AdaBoostClassifier(algorithm='SAMME.R', base_estimator=None,\n",
      "          learning_rate=1.0, n_estimators=50, random_state=None),\n",
      "           n_jobs=1)\n",
      "Training time: 0:01:44.349421\n",
      "Classifier : MultiOutputClassifier(estimator=AdaBoostClassifier(algorithm='SAMME.R', base_estimator=None,\n",
      "          learning_rate=1.0, n_estimators=50, random_state=None),\n",
      "           n_jobs=1)\n"
     ]
    },
    {
     "name": "stderr",
     "output_type": "stream",
     "text": [
      "/opt/conda/lib/python3.6/site-packages/sklearn/metrics/classification.py:1135: UndefinedMetricWarning: F-score is ill-defined and being set to 0.0 in samples with no predicted labels.\n",
      "  'precision', 'predicted', average, warn_for)\n",
      "/opt/conda/lib/python3.6/site-packages/sklearn/metrics/classification.py:1137: UndefinedMetricWarning: F-score is ill-defined and being set to 0.0 in samples with no true labels.\n",
      "  'recall', 'true', average, warn_for)\n",
      "/opt/conda/lib/python3.6/site-packages/sklearn/metrics/classification.py:1135: UndefinedMetricWarning: Precision is ill-defined and being set to 0.0 in samples with no predicted labels.\n",
      "  'precision', 'predicted', average, warn_for)\n",
      "/opt/conda/lib/python3.6/site-packages/sklearn/metrics/classification.py:1137: UndefinedMetricWarning: Recall is ill-defined and being set to 0.0 in samples with no true labels.\n",
      "  'recall', 'true', average, warn_for)\n"
     ]
    },
    {
     "name": "stdout",
     "output_type": "stream",
     "text": [
      "|Accuracy  |              F1               |           Precision           |            Recall             |\n",
      "           |Micro   Macro   Weight  Samples|Micro   Macro   Weight  Samples|Micro   Macro   Weight  Samples\n",
      "    0.254   0.67    0.405   0.634   0.545   0.769   0.564   0.731   0.669   0.594   0.335   0.594   0.531   \n",
      "Saving file: model_f1_0.6702_2019-12-23 17-23-49.463385.pkl\n",
      "======================================================================\n",
      "                 Category         F1  Precision     Recall   Accuracy\n",
      "----------------------------------------------------------------------\n",
      "                  related      0.883      0.804      0.979      0.800\n",
      "                  request      0.609      0.766      0.506      0.887\n",
      "                    offer      0.000      0.000      0.000      0.994\n",
      "              aid_related      0.702      0.775      0.641      0.773\n",
      "             medical_help      0.371      0.595      0.270      0.930\n",
      "         medical_products      0.405      0.582      0.310      0.955\n",
      "        search_and_rescue      0.308      0.631      0.204      0.972\n",
      "                 security      0.043      0.214      0.024      0.979\n",
      "                 military      0.461      0.597      0.376      0.974\n",
      "                    water      0.688      0.761      0.629      0.963\n",
      "                     food      0.743      0.834      0.670      0.948\n",
      "                  shelter      0.613      0.732      0.527      0.939\n",
      "                 clothing      0.388      0.508      0.313      0.985\n",
      "                    money      0.411      0.568      0.322      0.980\n",
      "           missing_people      0.303      0.600      0.203      0.989\n",
      "                 refugees      0.312      0.445      0.240      0.964\n",
      "                    death      0.587      0.771      0.474      0.969\n",
      "                other_aid      0.238      0.554      0.151      0.870\n",
      "   infrastructure_related      0.184      0.454      0.115      0.933\n",
      "                transport      0.318      0.627      0.213      0.958\n",
      "                buildings      0.495      0.641      0.404      0.959\n",
      "              electricity      0.340      0.571      0.242      0.981\n",
      "                    tools      0.000      0.000      0.000      0.992\n",
      "                hospitals      0.140      0.222      0.102      0.989\n",
      "                    shops      0.057      0.200      0.033      0.995\n",
      "              aid_centers      0.057      0.103      0.039      0.985\n",
      "     other_infrastructure      0.156      0.392      0.097      0.952\n",
      "          weather_related      0.766      0.868      0.686      0.882\n",
      "                   floods      0.693      0.858      0.581      0.957\n",
      "                    storm      0.626      0.793      0.516      0.942\n",
      "                     fire      0.304      0.560      0.209      0.990\n",
      "               earthquake      0.815      0.859      0.776      0.967\n",
      "                     cold      0.444      0.689      0.328      0.984\n",
      "            other_weather      0.219      0.462      0.143      0.948\n",
      "            direct_report      0.509      0.714      0.396      0.850\n",
      "======================================================================\n",
      "Training started: 2019-12-23 17:23:49.832432 \n",
      "Training MultiOutputClassifier(estimator=DecisionTreeClassifier(class_weight=None, criterion='gini', max_depth=None,\n",
      "            max_features=None, max_leaf_nodes=None,\n",
      "            min_impurity_decrease=0.0, min_impurity_split=None,\n",
      "            min_samples_leaf=1, min_samples_split=2,\n",
      "            min_weight_fraction_leaf=0.0, presort=False, random_state=None,\n",
      "            splitter='best'),\n",
      "           n_jobs=1)\n",
      "Training time: 0:05:50.362419\n",
      "Classifier : MultiOutputClassifier(estimator=DecisionTreeClassifier(class_weight=None, criterion='gini', max_depth=None,\n",
      "            max_features=None, max_leaf_nodes=None,\n",
      "            min_impurity_decrease=0.0, min_impurity_split=None,\n",
      "            min_samples_leaf=1, min_samples_split=2,\n",
      "            min_weight_fraction_leaf=0.0, presort=False, random_state=None,\n",
      "            splitter='best'),\n",
      "           n_jobs=1)\n"
     ]
    },
    {
     "name": "stderr",
     "output_type": "stream",
     "text": [
      "/opt/conda/lib/python3.6/site-packages/sklearn/metrics/classification.py:1135: UndefinedMetricWarning: F-score is ill-defined and being set to 0.0 in samples with no predicted labels.\n",
      "  'precision', 'predicted', average, warn_for)\n",
      "/opt/conda/lib/python3.6/site-packages/sklearn/metrics/classification.py:1137: UndefinedMetricWarning: F-score is ill-defined and being set to 0.0 in samples with no true labels.\n",
      "  'recall', 'true', average, warn_for)\n",
      "/opt/conda/lib/python3.6/site-packages/sklearn/metrics/classification.py:1135: UndefinedMetricWarning: Precision is ill-defined and being set to 0.0 in samples with no predicted labels.\n",
      "  'precision', 'predicted', average, warn_for)\n",
      "/opt/conda/lib/python3.6/site-packages/sklearn/metrics/classification.py:1137: UndefinedMetricWarning: Recall is ill-defined and being set to 0.0 in samples with no true labels.\n",
      "  'recall', 'true', average, warn_for)\n"
     ]
    },
    {
     "name": "stdout",
     "output_type": "stream",
     "text": [
      "|Accuracy  |              F1               |           Precision           |            Recall             |\n",
      "           |Micro   Macro   Weight  Samples|Micro   Macro   Weight  Samples|Micro   Macro   Weight  Samples\n",
      "    0.185   0.617   0.397   0.612   0.46    0.631   0.411   0.622   0.514   0.603   0.386   0.603   0.496   \n",
      "Saving file: model_f1_0.6168_2019-12-23 17-29-43.605918.pkl\n",
      "======================================================================\n",
      "                 Category         F1  Precision     Recall   Accuracy\n",
      "----------------------------------------------------------------------\n",
      "                  related      0.850      0.851      0.850      0.770\n",
      "                  request      0.587      0.604      0.571      0.860\n",
      "                    offer      0.000      0.000      0.000      0.990\n",
      "              aid_related      0.653      0.666      0.641      0.717\n",
      "             medical_help      0.346      0.362      0.332      0.904\n",
      "         medical_products      0.360      0.388      0.335      0.942\n",
      "        search_and_rescue      0.244      0.304      0.204      0.961\n",
      "                 security      0.088      0.100      0.079      0.968\n",
      "                 military      0.370      0.392      0.350      0.964\n",
      "                    water      0.646      0.658      0.636      0.955\n",
      "                     food      0.758      0.753      0.763      0.946\n",
      "                  shelter      0.636      0.667      0.607      0.936\n",
      "                 clothing      0.480      0.467      0.495      0.984\n",
      "                    money      0.363      0.370      0.357      0.973\n",
      "           missing_people      0.268      0.279      0.257      0.984\n",
      "                 refugees      0.310      0.318      0.303      0.954\n",
      "                    death      0.564      0.566      0.562      0.959\n",
      "                other_aid      0.302      0.322      0.284      0.824\n",
      "   infrastructure_related      0.194      0.212      0.178      0.903\n",
      "                transport      0.288      0.310      0.269      0.939\n",
      "                buildings      0.429      0.451      0.410      0.946\n",
      "              electricity      0.328      0.357      0.303      0.975\n",
      "                    tools      0.123      0.133      0.114      0.991\n",
      "                hospitals      0.142      0.148      0.136      0.985\n",
      "                    shops      0.040      0.050      0.033      0.993\n",
      "              aid_centers      0.104      0.123      0.091      0.982\n",
      "     other_infrastructure      0.146      0.151      0.141      0.925\n",
      "          weather_related      0.737      0.736      0.738      0.852\n",
      "                   floods      0.599      0.595      0.602      0.933\n",
      "                    storm      0.671      0.695      0.648      0.941\n",
      "                     fire      0.310      0.293      0.328      0.985\n",
      "               earthquake      0.787      0.786      0.789      0.960\n",
      "                     cold      0.432      0.495      0.383      0.980\n",
      "            other_weather      0.268      0.277      0.260      0.927\n",
      "            direct_report      0.481      0.503      0.462      0.804\n",
      "======================================================================\n"
     ]
    }
   ],
   "source": [
    "file_names = train_classifiers(pipeline_function=flat_pipeline, classifiers=classifiers)"
   ]
  },
  {
   "cell_type": "markdown",
   "metadata": {},
   "source": [
    "### 6. Improve your model\n",
    "\n",
    "#### 6.1. Use ensamble to improve classification"
   ]
  },
  {
   "cell_type": "code",
   "execution_count": 13,
   "metadata": {},
   "outputs": [],
   "source": [
    "class MeanStack:\n",
    "    \n",
    "    def __init__(self, models):\n",
    "        self.models = models\n",
    "    \n",
    "    def fit(self, X_train, y_train):\n",
    "        \n",
    "        for model in self.models:\n",
    "            t0 = datetime.datetime.now()\n",
    "            print('Trainig:', type(model).__name__, t0)\n",
    "            print('X_train.shape', X_train.shape)\n",
    "            print('y_train.shape', y_train.shape)\n",
    "            model.fit(X_train, y_train)\n",
    "            \n",
    "            print(type(model).__name__, ' training time:', datetime.datetime.now() - t0)\n",
    "    \n",
    "    def predict(self, X):\n",
    "        \n",
    "        preds = [model.predict(X) for model in self.models]\n",
    "        preds_mean = np.mean(preds, axis=0)\n",
    "        preds_result = np.array(preds_mean >= 0.5, dtype='int32')\n",
    "        \n",
    "        return preds_result\n",
    "        "
   ]
  },
  {
   "cell_type": "code",
   "execution_count": 14,
   "metadata": {},
   "outputs": [
    {
     "name": "stderr",
     "output_type": "stream",
     "text": [
      "/opt/conda/lib/python3.6/site-packages/sklearn/metrics/classification.py:1135: UndefinedMetricWarning: F-score is ill-defined and being set to 0.0 in labels with no predicted samples.\n",
      "  'precision', 'predicted', average, warn_for)\n",
      "/opt/conda/lib/python3.6/site-packages/sklearn/metrics/classification.py:1135: UndefinedMetricWarning: F-score is ill-defined and being set to 0.0 in samples with no predicted labels.\n",
      "  'precision', 'predicted', average, warn_for)\n",
      "/opt/conda/lib/python3.6/site-packages/sklearn/metrics/classification.py:1137: UndefinedMetricWarning: F-score is ill-defined and being set to 0.0 in samples with no true labels.\n",
      "  'recall', 'true', average, warn_for)\n",
      "/opt/conda/lib/python3.6/site-packages/sklearn/metrics/classification.py:1135: UndefinedMetricWarning: Precision is ill-defined and being set to 0.0 in labels with no predicted samples.\n",
      "  'precision', 'predicted', average, warn_for)\n",
      "/opt/conda/lib/python3.6/site-packages/sklearn/metrics/classification.py:1135: UndefinedMetricWarning: Precision is ill-defined and being set to 0.0 in samples with no predicted labels.\n",
      "  'precision', 'predicted', average, warn_for)\n",
      "/opt/conda/lib/python3.6/site-packages/sklearn/metrics/classification.py:1137: UndefinedMetricWarning: Recall is ill-defined and being set to 0.0 in samples with no true labels.\n",
      "  'recall', 'true', average, warn_for)\n",
      "/opt/conda/lib/python3.6/site-packages/sklearn/metrics/classification.py:1135: UndefinedMetricWarning: F-score is ill-defined and being set to 0.0 due to no predicted samples.\n",
      "  'precision', 'predicted', average, warn_for)\n",
      "/opt/conda/lib/python3.6/site-packages/sklearn/metrics/classification.py:1135: UndefinedMetricWarning: Precision is ill-defined and being set to 0.0 due to no predicted samples.\n",
      "  'precision', 'predicted', average, warn_for)\n"
     ]
    },
    {
     "name": "stdout",
     "output_type": "stream",
     "text": [
      "|Accuracy  |              F1               |           Precision           |            Recall             |\n",
      "           |Micro   Macro   Weight  Samples|Micro   Macro   Weight  Samples|Micro   Macro   Weight  Samples\n",
      "    0.294   0.66    0.304   0.601   0.525   0.823   0.597   0.768   0.676   0.551   0.238   0.551   0.496   \n",
      "======================================================================\n",
      "                 Category         F1  Precision     Recall   Accuracy\n",
      "----------------------------------------------------------------------\n",
      "                  related      0.898      0.845      0.957      0.832\n",
      "                  request      0.657      0.842      0.538      0.902\n",
      "                    offer      0.000      0.000      0.000      0.996\n",
      "              aid_related      0.730      0.785      0.682      0.790\n",
      "             medical_help      0.247      0.568      0.158      0.926\n",
      "         medical_products      0.260      0.699      0.160      0.956\n",
      "        search_and_rescue      0.085      0.750      0.045      0.970\n",
      "                 security      0.000      0.000      0.000      0.981\n",
      "                 military      0.204      0.632      0.122      0.971\n",
      "                    water      0.619      0.814      0.500      0.961\n",
      "                     food      0.706      0.855      0.601      0.944\n",
      "                  shelter      0.552      0.801      0.421      0.937\n",
      "                 clothing      0.382      0.781      0.253      0.988\n",
      "                    money      0.149      0.667      0.084      0.979\n",
      "           missing_people      0.000      0.000      0.000      0.989\n",
      "                 refugees      0.122      0.625      0.068      0.967\n",
      "                    death      0.398      0.868      0.258      0.963\n",
      "                other_aid      0.206      0.624      0.123      0.872\n",
      "   infrastructure_related      0.023      0.385      0.012      0.934\n",
      "                transport      0.139      0.793      0.076      0.957\n",
      "                buildings      0.351      0.750      0.229      0.958\n",
      "              electricity      0.228      0.692      0.136      0.981\n",
      "                    tools      0.000      0.000      0.000      0.995\n",
      "                hospitals      0.033      0.500      0.017      0.991\n",
      "                    shops      0.000      0.000      0.000      0.995\n",
      "              aid_centers      0.000      0.000      0.000      0.988\n",
      "     other_infrastructure      0.007      0.143      0.003      0.954\n",
      "          weather_related      0.757      0.871      0.670      0.879\n",
      "                   floods      0.602      0.930      0.444      0.951\n",
      "                    storm      0.596      0.789      0.479      0.939\n",
      "                     fire      0.085      0.750      0.045      0.990\n",
      "               earthquake      0.750      0.873      0.656      0.958\n",
      "                     cold      0.205      0.833      0.117      0.982\n",
      "            other_weather      0.084      0.652      0.045      0.950\n",
      "            direct_report      0.559      0.769      0.439      0.863\n",
      "======================================================================\n"
     ]
    }
   ],
   "source": [
    "models = [load(fname) for fname in file_names[:-2]]\n",
    "ens = MeanStack(models)\n",
    "\n",
    "y_pred = ens.predict(X_test)\n",
    "\n",
    "evaluate_overall_results(y_test, y_pred)\n",
    "evaluate_model_classes(y_test, y_pred, categories)"
   ]
  },
  {
   "cell_type": "code",
   "execution_count": 15,
   "metadata": {},
   "outputs": [
    {
     "name": "stderr",
     "output_type": "stream",
     "text": [
      "/opt/conda/lib/python3.6/site-packages/sklearn/metrics/classification.py:1135: UndefinedMetricWarning: F-score is ill-defined and being set to 0.0 in labels with no predicted samples.\n",
      "  'precision', 'predicted', average, warn_for)\n",
      "/opt/conda/lib/python3.6/site-packages/sklearn/metrics/classification.py:1135: UndefinedMetricWarning: F-score is ill-defined and being set to 0.0 in samples with no predicted labels.\n",
      "  'precision', 'predicted', average, warn_for)\n",
      "/opt/conda/lib/python3.6/site-packages/sklearn/metrics/classification.py:1137: UndefinedMetricWarning: F-score is ill-defined and being set to 0.0 in samples with no true labels.\n",
      "  'recall', 'true', average, warn_for)\n",
      "/opt/conda/lib/python3.6/site-packages/sklearn/metrics/classification.py:1135: UndefinedMetricWarning: Precision is ill-defined and being set to 0.0 in labels with no predicted samples.\n",
      "  'precision', 'predicted', average, warn_for)\n",
      "/opt/conda/lib/python3.6/site-packages/sklearn/metrics/classification.py:1135: UndefinedMetricWarning: Precision is ill-defined and being set to 0.0 in samples with no predicted labels.\n",
      "  'precision', 'predicted', average, warn_for)\n",
      "/opt/conda/lib/python3.6/site-packages/sklearn/metrics/classification.py:1137: UndefinedMetricWarning: Recall is ill-defined and being set to 0.0 in samples with no true labels.\n",
      "  'recall', 'true', average, warn_for)\n"
     ]
    },
    {
     "name": "stdout",
     "output_type": "stream",
     "text": [
      "|Accuracy  |              F1               |           Precision           |            Recall             |\n",
      "           |Micro   Macro   Weight  Samples|Micro   Macro   Weight  Samples|Micro   Macro   Weight  Samples\n",
      "    0.292   0.682   0.384   0.637   0.539   0.807   0.622   0.766   0.667   0.591   0.31    0.591   0.52    \n",
      "======================================================================\n",
      "                 Category         F1  Precision     Recall   Accuracy\n",
      "----------------------------------------------------------------------\n",
      "                  related      0.891      0.832      0.960      0.820\n",
      "                  request      0.649      0.812      0.540      0.898\n",
      "                    offer      0.000      0.000      0.000      0.995\n",
      "              aid_related      0.727      0.782      0.679      0.788\n",
      "             medical_help      0.327      0.602      0.224      0.929\n",
      "         medical_products      0.362      0.675      0.248      0.957\n",
      "        search_and_rescue      0.231      0.683      0.139      0.972\n",
      "                 security      0.015      0.143      0.008      0.980\n",
      "                 military      0.315      0.566      0.218      0.971\n",
      "                    water      0.680      0.794      0.595      0.964\n",
      "                     food      0.776      0.856      0.710      0.954\n",
      "                  shelter      0.622      0.786      0.514      0.942\n",
      "                 clothing      0.474      0.649      0.374      0.987\n",
      "                    money      0.356      0.708      0.238      0.981\n",
      "           missing_people      0.301      0.737      0.189      0.990\n",
      "                 refugees      0.292      0.550      0.199      0.967\n",
      "                    death      0.599      0.823      0.471      0.970\n",
      "                other_aid      0.235      0.620      0.145      0.873\n",
      "   infrastructure_related      0.103      0.585      0.056      0.936\n",
      "                transport      0.274      0.718      0.169      0.959\n",
      "                buildings      0.455      0.730      0.330      0.960\n",
      "              electricity      0.314      0.675      0.205      0.982\n",
      "                    tools      0.000      0.000      0.000      0.994\n",
      "                hospitals      0.121      0.571      0.068      0.991\n",
      "                    shops      0.000      0.000      0.000      0.995\n",
      "              aid_centers      0.025      0.333      0.013      0.988\n",
      "     other_infrastructure      0.080      0.500      0.044      0.954\n",
      "          weather_related      0.783      0.870      0.712      0.889\n",
      "                   floods      0.689      0.884      0.565      0.958\n",
      "                    storm      0.645      0.796      0.543      0.944\n",
      "                     fire      0.179      0.636      0.104      0.990\n",
      "               earthquake      0.825      0.867      0.787      0.968\n",
      "                     cold      0.391      0.739      0.266      0.984\n",
      "            other_weather      0.152      0.492      0.090      0.949\n",
      "            direct_report      0.549      0.752      0.433      0.860\n",
      "======================================================================\n"
     ]
    },
    {
     "name": "stderr",
     "output_type": "stream",
     "text": [
      "/opt/conda/lib/python3.6/site-packages/sklearn/metrics/classification.py:1135: UndefinedMetricWarning: F-score is ill-defined and being set to 0.0 due to no predicted samples.\n",
      "  'precision', 'predicted', average, warn_for)\n",
      "/opt/conda/lib/python3.6/site-packages/sklearn/metrics/classification.py:1135: UndefinedMetricWarning: Precision is ill-defined and being set to 0.0 due to no predicted samples.\n",
      "  'precision', 'predicted', average, warn_for)\n"
     ]
    }
   ],
   "source": [
    "models = [load(fname) for fname in file_names]\n",
    "ens = MeanStack(models)\n",
    "\n",
    "y_pred = ens.predict(X_test)\n",
    "\n",
    "evaluate_overall_results(y_test, y_pred)\n",
    "evaluate_model_classes(y_test, y_pred, categories)\n"
   ]
  },
  {
   "cell_type": "code",
   "execution_count": 16,
   "metadata": {
    "scrolled": false
   },
   "outputs": [
    {
     "name": "stderr",
     "output_type": "stream",
     "text": [
      "/opt/conda/lib/python3.6/site-packages/sklearn/metrics/classification.py:1135: UndefinedMetricWarning: F-score is ill-defined and being set to 0.0 in labels with no predicted samples.\n",
      "  'precision', 'predicted', average, warn_for)\n",
      "/opt/conda/lib/python3.6/site-packages/sklearn/metrics/classification.py:1135: UndefinedMetricWarning: F-score is ill-defined and being set to 0.0 in samples with no predicted labels.\n",
      "  'precision', 'predicted', average, warn_for)\n",
      "/opt/conda/lib/python3.6/site-packages/sklearn/metrics/classification.py:1137: UndefinedMetricWarning: F-score is ill-defined and being set to 0.0 in samples with no true labels.\n",
      "  'recall', 'true', average, warn_for)\n",
      "/opt/conda/lib/python3.6/site-packages/sklearn/metrics/classification.py:1135: UndefinedMetricWarning: Precision is ill-defined and being set to 0.0 in labels with no predicted samples.\n",
      "  'precision', 'predicted', average, warn_for)\n",
      "/opt/conda/lib/python3.6/site-packages/sklearn/metrics/classification.py:1135: UndefinedMetricWarning: Precision is ill-defined and being set to 0.0 in samples with no predicted labels.\n",
      "  'precision', 'predicted', average, warn_for)\n",
      "/opt/conda/lib/python3.6/site-packages/sklearn/metrics/classification.py:1137: UndefinedMetricWarning: Recall is ill-defined and being set to 0.0 in samples with no true labels.\n",
      "  'recall', 'true', average, warn_for)\n",
      "/opt/conda/lib/python3.6/site-packages/sklearn/metrics/classification.py:1135: UndefinedMetricWarning: F-score is ill-defined and being set to 0.0 due to no predicted samples.\n",
      "  'precision', 'predicted', average, warn_for)\n",
      "/opt/conda/lib/python3.6/site-packages/sklearn/metrics/classification.py:1135: UndefinedMetricWarning: Precision is ill-defined and being set to 0.0 due to no predicted samples.\n",
      "  'precision', 'predicted', average, warn_for)\n"
     ]
    },
    {
     "name": "stdout",
     "output_type": "stream",
     "text": [
      "|Accuracy  |              F1               |           Precision           |            Recall             |\n",
      "           |Micro   Macro   Weight  Samples|Micro   Macro   Weight  Samples|Micro   Macro   Weight  Samples\n",
      "    0.294   0.66    0.304   0.601   0.525   0.823   0.597   0.768   0.676   0.551   0.238   0.551   0.496   \n",
      "======================================================================\n",
      "                 Category         F1  Precision     Recall   Accuracy\n",
      "----------------------------------------------------------------------\n",
      "                  related      0.898      0.845      0.957      0.832\n",
      "                  request      0.657      0.842      0.538      0.902\n",
      "                    offer      0.000      0.000      0.000      0.996\n",
      "              aid_related      0.730      0.785      0.682      0.790\n",
      "             medical_help      0.247      0.568      0.158      0.926\n",
      "         medical_products      0.260      0.699      0.160      0.956\n",
      "        search_and_rescue      0.085      0.750      0.045      0.970\n",
      "                 security      0.000      0.000      0.000      0.981\n",
      "                 military      0.204      0.632      0.122      0.971\n",
      "                    water      0.619      0.814      0.500      0.961\n",
      "                     food      0.706      0.855      0.601      0.944\n",
      "                  shelter      0.552      0.801      0.421      0.937\n",
      "                 clothing      0.382      0.781      0.253      0.988\n",
      "                    money      0.149      0.667      0.084      0.979\n",
      "           missing_people      0.000      0.000      0.000      0.989\n",
      "                 refugees      0.122      0.625      0.068      0.967\n",
      "                    death      0.398      0.868      0.258      0.963\n",
      "                other_aid      0.206      0.624      0.123      0.872\n",
      "   infrastructure_related      0.023      0.385      0.012      0.934\n",
      "                transport      0.139      0.793      0.076      0.957\n",
      "                buildings      0.351      0.750      0.229      0.958\n",
      "              electricity      0.228      0.692      0.136      0.981\n",
      "                    tools      0.000      0.000      0.000      0.995\n",
      "                hospitals      0.033      0.500      0.017      0.991\n",
      "                    shops      0.000      0.000      0.000      0.995\n",
      "              aid_centers      0.000      0.000      0.000      0.988\n",
      "     other_infrastructure      0.007      0.143      0.003      0.954\n",
      "          weather_related      0.757      0.871      0.670      0.879\n",
      "                   floods      0.602      0.930      0.444      0.951\n",
      "                    storm      0.596      0.789      0.479      0.939\n",
      "                     fire      0.085      0.750      0.045      0.990\n",
      "               earthquake      0.750      0.873      0.656      0.958\n",
      "                     cold      0.205      0.833      0.117      0.982\n",
      "            other_weather      0.084      0.652      0.045      0.950\n",
      "            direct_report      0.559      0.769      0.439      0.863\n",
      "======================================================================\n",
      "|Accuracy  |              F1               |           Precision           |            Recall             |\n",
      "           |Micro   Macro   Weight  Samples|Micro   Macro   Weight  Samples|Micro   Macro   Weight  Samples\n",
      "    0.254   0.67    0.405   0.634   0.545   0.769   0.564   0.731   0.669   0.594   0.335   0.594   0.531   \n",
      "======================================================================\n",
      "                 Category         F1  Precision     Recall   Accuracy\n",
      "----------------------------------------------------------------------\n",
      "                  related      0.883      0.804      0.979      0.800\n",
      "                  request      0.609      0.766      0.506      0.887\n",
      "                    offer      0.000      0.000      0.000      0.994\n",
      "              aid_related      0.702      0.775      0.641      0.773\n",
      "             medical_help      0.371      0.595      0.270      0.930\n",
      "         medical_products      0.405      0.582      0.310      0.955\n",
      "        search_and_rescue      0.308      0.631      0.204      0.972\n",
      "                 security      0.043      0.214      0.024      0.979\n",
      "                 military      0.461      0.597      0.376      0.974\n",
      "                    water      0.688      0.761      0.629      0.963\n",
      "                     food      0.743      0.834      0.670      0.948\n",
      "                  shelter      0.613      0.732      0.527      0.939\n",
      "                 clothing      0.388      0.508      0.313      0.985\n",
      "                    money      0.411      0.568      0.322      0.980\n",
      "           missing_people      0.303      0.600      0.203      0.989\n",
      "                 refugees      0.312      0.445      0.240      0.964\n",
      "                    death      0.587      0.771      0.474      0.969\n",
      "                other_aid      0.238      0.554      0.151      0.870\n",
      "   infrastructure_related      0.184      0.454      0.115      0.933\n",
      "                transport      0.318      0.627      0.213      0.958\n",
      "                buildings      0.495      0.641      0.404      0.959\n",
      "              electricity      0.340      0.571      0.242      0.981\n",
      "                    tools      0.000      0.000      0.000      0.992\n",
      "                hospitals      0.140      0.222      0.102      0.989\n",
      "                    shops      0.057      0.200      0.033      0.995\n",
      "              aid_centers      0.057      0.103      0.039      0.985\n",
      "     other_infrastructure      0.156      0.392      0.097      0.952\n",
      "          weather_related      0.766      0.868      0.686      0.882\n",
      "                   floods      0.693      0.858      0.581      0.957\n",
      "                    storm      0.626      0.793      0.516      0.942\n",
      "                     fire      0.304      0.560      0.209      0.990\n",
      "               earthquake      0.815      0.859      0.776      0.967\n",
      "                     cold      0.444      0.689      0.328      0.984\n",
      "            other_weather      0.219      0.462      0.143      0.948\n",
      "            direct_report      0.509      0.714      0.396      0.850\n",
      "======================================================================\n",
      "|Accuracy  |              F1               |           Precision           |            Recall             |\n",
      "           |Micro   Macro   Weight  Samples|Micro   Macro   Weight  Samples|Micro   Macro   Weight  Samples\n",
      "    0.185   0.617   0.397   0.612   0.46    0.631   0.411   0.622   0.514   0.603   0.386   0.603   0.496   \n",
      "======================================================================\n",
      "                 Category         F1  Precision     Recall   Accuracy\n",
      "----------------------------------------------------------------------\n",
      "                  related      0.850      0.851      0.850      0.770\n",
      "                  request      0.587      0.604      0.571      0.860\n",
      "                    offer      0.000      0.000      0.000      0.990\n",
      "              aid_related      0.653      0.666      0.641      0.717\n",
      "             medical_help      0.346      0.362      0.332      0.904\n",
      "         medical_products      0.360      0.388      0.335      0.942\n",
      "        search_and_rescue      0.244      0.304      0.204      0.961\n",
      "                 security      0.088      0.100      0.079      0.968\n",
      "                 military      0.370      0.392      0.350      0.964\n",
      "                    water      0.646      0.658      0.636      0.955\n",
      "                     food      0.758      0.753      0.763      0.946\n",
      "                  shelter      0.636      0.667      0.607      0.936\n",
      "                 clothing      0.480      0.467      0.495      0.984\n",
      "                    money      0.363      0.370      0.357      0.973\n",
      "           missing_people      0.268      0.279      0.257      0.984\n",
      "                 refugees      0.310      0.318      0.303      0.954\n",
      "                    death      0.564      0.566      0.562      0.959\n",
      "                other_aid      0.302      0.322      0.284      0.824\n",
      "   infrastructure_related      0.194      0.212      0.178      0.903\n",
      "                transport      0.288      0.310      0.269      0.939\n",
      "                buildings      0.429      0.451      0.410      0.946\n",
      "              electricity      0.328      0.357      0.303      0.975\n",
      "                    tools      0.123      0.133      0.114      0.991\n",
      "                hospitals      0.142      0.148      0.136      0.985\n",
      "                    shops      0.040      0.050      0.033      0.993\n",
      "              aid_centers      0.104      0.123      0.091      0.982\n",
      "     other_infrastructure      0.146      0.151      0.141      0.925\n",
      "          weather_related      0.737      0.736      0.738      0.852\n",
      "                   floods      0.599      0.595      0.602      0.933\n",
      "                    storm      0.671      0.695      0.648      0.941\n",
      "                     fire      0.310      0.293      0.328      0.985\n",
      "               earthquake      0.787      0.786      0.789      0.960\n",
      "                     cold      0.432      0.495      0.383      0.980\n",
      "            other_weather      0.268      0.277      0.260      0.927\n",
      "            direct_report      0.481      0.503      0.462      0.804\n",
      "======================================================================\n"
     ]
    }
   ],
   "source": [
    "for m in models:\n",
    "    y_pred = m.predict(X_test)\n",
    "    \n",
    "    evaluate_overall_results(y_test, y_pred)\n",
    "    evaluate_model_classes(y_test, y_pred, categories)"
   ]
  },
  {
   "cell_type": "markdown",
   "metadata": {},
   "source": [
    "#### 6.2.Grid Search\n",
    "Use grid search to find better parameters. "
   ]
  },
  {
   "attachments": {
    "image.png": {
     "image/png": "[encoded data removed]"
    }
   },
   "cell_type": "markdown",
   "metadata": {},
   "source": [
    "![image.png](attachment:image.png)"
   ]
  },
  {
   "cell_type": "code",
   "execution_count": 17,
   "metadata": {},
   "outputs": [],
   "source": [
    "# Parameters for grid search\n",
    "\n",
    "#parameters = {#Logistic Regression\n",
    "#    'clf__estimator__C':[0.9, 1.0, 100, 1000, 5000],\n",
    "#    'clf__estimator__max_iter':[100, 250, 500],\n",
    "#    'clf__estimator__solver':['liblinear', 'saga'],\n",
    "#    'clf__estimator__penalty':['l1', 'l2'],\n",
    "#    'clf__estimator__multi_class':['auto'],\n",
    "#}\n",
    "#parameters = { #Logistic Regression\n",
    "#    'clf__estimator__C':[1.0, .95, .9, .8],\n",
    "#    'clf__estimator__max_iter':[100, 300],\n",
    "#    'clf__estimator__solver':['newton-cg', 'sag', 'saga', 'lbfgs'],\n",
    "#    'clf__estimator__penalty':['l2', 'none'],\n",
    "#    'clf__estimator__multi_class':['ovr', 'multinomial'],\n",
    "#}\n",
    "\n",
    "#parameters = { # RandomForest\n",
    "#    'clf__n_estimators':[1],\n",
    "#    'clf__max_depth':[1],\n",
    "#}\n",
    "\n",
    "#parameters = { # AdaBoost\n",
    "#    'clf__estimator__n_estimators':[5],\n",
    "#    'clf__estimator__learning_rate' : [1.1],\n",
    "#    'clf__estimator__base_estimator': [DecisionTreeClassifier(max_depth=1)]\n",
    "#}\n",
    "\n",
    "parameters = { # AdaBoost\n",
    "    'clf__estimator__n_estimators':[50,60,70],\n",
    "    'clf__estimator__learning_rate' : [0.98, 1.0, 1.1]\n",
    "}"
   ]
  },
  {
   "cell_type": "code",
   "execution_count": null,
   "metadata": {
    "scrolled": true
   },
   "outputs": [],
   "source": []
  },
  {
   "cell_type": "markdown",
   "metadata": {},
   "source": [
    "##### 6.3. Train, test and save Grid Search\n",
    "Show the accuracy, precision, and recall of the tuned model.  \n",
    "\n",
    "Since this project focuses on code quality, process, and  pipelines, there is no minimum performance metric needed to pass. However, make sure to fine tune your models for accuracy, precision and recall to make your project stand out - especially for your portfolio!"
   ]
  },
  {
   "cell_type": "code",
   "execution_count": 18,
   "metadata": {
    "scrolled": false
   },
   "outputs": [],
   "source": [
    "def train_grid_search(pipeline_function, clf, parameters):\n",
    "    \n",
    "    with active_session():\n",
    "            \n",
    "        pipeline = pipeline_function(clf)\n",
    "\n",
    "        cv = GridSearchCV(pipeline, parameters, cv=5, scoring='f1_micro', n_jobs=-1)\n",
    "\n",
    "        t0 = datetime.now()\n",
    "        print(\"Training started:\", t0)\n",
    "        cv.fit(X_train, y_train)\n",
    "\n",
    "        print(\"Training time:\", datetime.now() - t0)\n",
    "\n",
    "        # Predict\n",
    "        y_pred = cv.predict(X_test)\n",
    "\n",
    "        # Evaluate and save\n",
    "        f1 = evaluate_overall_results(y_test, y_pred)\n",
    "        save_model(model=cv, score=f1)\n",
    "        save_parameters(parameters=parameters, score=f1)\n",
    "        evaluate_model_classes(y_test, y_pred, categories)\n"
   ]
  },
  {
   "cell_type": "code",
   "execution_count": 19,
   "metadata": {},
   "outputs": [
    {
     "name": "stdout",
     "output_type": "stream",
     "text": [
      "{'memory': None, 'steps': [('counts', CountVectorizer(analyzer='word', binary=False, decode_error='strict',\n",
      "        dtype=<class 'numpy.int64'>, encoding='utf-8', input='content',\n",
      "        lowercase=True, max_df=1.0, max_features=None, min_df=1,\n",
      "        ngram_range=(1, 1), preprocessor=None, stop_words=None,\n",
      "        strip_accents=None, token_pattern='(?u)\\\\b\\\\w\\\\w+\\\\b',\n",
      "        tokenizer=<function tokenize_word at 0x7f47dac14a60>,\n",
      "        vocabulary=None)), ('tfidf', TfidfTransformer(norm='l2', smooth_idf=True, sublinear_tf=False, use_idf=True)), ('clf', MultiOutputClassifier(estimator=AdaBoostClassifier(algorithm='SAMME.R', base_estimator=None,\n",
      "          learning_rate=1.0, n_estimators=50, random_state=None),\n",
      "           n_jobs=1))], 'counts': CountVectorizer(analyzer='word', binary=False, decode_error='strict',\n",
      "        dtype=<class 'numpy.int64'>, encoding='utf-8', input='content',\n",
      "        lowercase=True, max_df=1.0, max_features=None, min_df=1,\n",
      "        ngram_range=(1, 1), preprocessor=None, stop_words=None,\n",
      "        strip_accents=None, token_pattern='(?u)\\\\b\\\\w\\\\w+\\\\b',\n",
      "        tokenizer=<function tokenize_word at 0x7f47dac14a60>,\n",
      "        vocabulary=None), 'tfidf': TfidfTransformer(norm='l2', smooth_idf=True, sublinear_tf=False, use_idf=True), 'clf': MultiOutputClassifier(estimator=AdaBoostClassifier(algorithm='SAMME.R', base_estimator=None,\n",
      "          learning_rate=1.0, n_estimators=50, random_state=None),\n",
      "           n_jobs=1), 'counts__analyzer': 'word', 'counts__binary': False, 'counts__decode_error': 'strict', 'counts__dtype': <class 'numpy.int64'>, 'counts__encoding': 'utf-8', 'counts__input': 'content', 'counts__lowercase': True, 'counts__max_df': 1.0, 'counts__max_features': None, 'counts__min_df': 1, 'counts__ngram_range': (1, 1), 'counts__preprocessor': None, 'counts__stop_words': None, 'counts__strip_accents': None, 'counts__token_pattern': '(?u)\\\\b\\\\w\\\\w+\\\\b', 'counts__tokenizer': <function tokenize_word at 0x7f47dac14a60>, 'counts__vocabulary': None, 'tfidf__norm': 'l2', 'tfidf__smooth_idf': True, 'tfidf__sublinear_tf': False, 'tfidf__use_idf': True, 'clf__estimator__algorithm': 'SAMME.R', 'clf__estimator__base_estimator': None, 'clf__estimator__learning_rate': 1.0, 'clf__estimator__n_estimators': 50, 'clf__estimator__random_state': None, 'clf__estimator': AdaBoostClassifier(algorithm='SAMME.R', base_estimator=None,\n",
      "          learning_rate=1.0, n_estimators=50, random_state=None), 'clf__n_jobs': 1}\n"
     ]
    }
   ],
   "source": [
    "clf = MultiOutputClassifier(AdaBoostClassifier())\n",
    "print(flat_pipeline(clf).get_params())"
   ]
  },
  {
   "cell_type": "code",
   "execution_count": 20,
   "metadata": {},
   "outputs": [
    {
     "name": "stdout",
     "output_type": "stream",
     "text": [
      "Training started: 2019-12-23 17:30:10.412684\n",
      "Training time: 1:25:38.539483\n"
     ]
    },
    {
     "name": "stderr",
     "output_type": "stream",
     "text": [
      "/opt/conda/lib/python3.6/site-packages/sklearn/metrics/classification.py:1135: UndefinedMetricWarning: F-score is ill-defined and being set to 0.0 in samples with no predicted labels.\n",
      "  'precision', 'predicted', average, warn_for)\n",
      "/opt/conda/lib/python3.6/site-packages/sklearn/metrics/classification.py:1137: UndefinedMetricWarning: F-score is ill-defined and being set to 0.0 in samples with no true labels.\n",
      "  'recall', 'true', average, warn_for)\n",
      "/opt/conda/lib/python3.6/site-packages/sklearn/metrics/classification.py:1135: UndefinedMetricWarning: Precision is ill-defined and being set to 0.0 in samples with no predicted labels.\n",
      "  'precision', 'predicted', average, warn_for)\n",
      "/opt/conda/lib/python3.6/site-packages/sklearn/metrics/classification.py:1137: UndefinedMetricWarning: Recall is ill-defined and being set to 0.0 in samples with no true labels.\n",
      "  'recall', 'true', average, warn_for)\n"
     ]
    },
    {
     "name": "stdout",
     "output_type": "stream",
     "text": [
      "|Accuracy  |              F1               |           Precision           |            Recall             |\n",
      "           |Micro   Macro   Weight  Samples|Micro   Macro   Weight  Samples|Micro   Macro   Weight  Samples\n",
      "    0.254   0.673   0.408   0.637   0.544   0.768   0.559   0.728   0.662   0.599   0.339   0.599   0.532   \n",
      "Saving file: model_f1_0.6727_2019-12-23 18-55-54.720530.pkl\n",
      "Saving file: grid-parameters_f1_0.6727_2019-12-23 18-55-54.915969.pkl\n",
      "======================================================================\n",
      "                 Category         F1  Precision     Recall   Accuracy\n",
      "----------------------------------------------------------------------\n",
      "                  related      0.884      0.809      0.974      0.804\n",
      "                  request      0.622      0.773      0.520      0.890\n",
      "                    offer      0.000      0.000      0.000      0.995\n",
      "              aid_related      0.709      0.773      0.654      0.776\n",
      "             medical_help      0.377      0.592      0.276      0.930\n",
      "         medical_products      0.404      0.579      0.310      0.955\n",
      "        search_and_rescue      0.277      0.561      0.184      0.970\n",
      "                 security      0.069      0.263      0.040      0.979\n",
      "                 military      0.476      0.623      0.386      0.974\n",
      "                    water      0.693      0.776      0.626      0.964\n",
      "                     food      0.741      0.822      0.674      0.948\n",
      "                  shelter      0.619      0.729      0.537      0.939\n",
      "                 clothing      0.470      0.582      0.394      0.987\n",
      "                    money      0.383      0.606      0.280      0.980\n",
      "           missing_people      0.247      0.522      0.162      0.989\n",
      "                 refugees      0.299      0.442      0.226      0.964\n",
      "                    death      0.583      0.749      0.477      0.968\n",
      "                other_aid      0.249      0.557      0.161      0.870\n",
      "   infrastructure_related      0.184      0.458      0.115      0.933\n",
      "                transport      0.315      0.610      0.213      0.957\n",
      "                buildings      0.495      0.633      0.407      0.959\n",
      "              electricity      0.355      0.611      0.250      0.982\n",
      "                    tools      0.000      0.000      0.000      0.993\n",
      "                hospitals      0.122      0.217      0.085      0.989\n",
      "                    shops      0.000      0.000      0.000      0.995\n",
      "              aid_centers      0.098      0.200      0.065      0.986\n",
      "     other_infrastructure      0.153      0.362      0.097      0.951\n",
      "          weather_related      0.764      0.853      0.692      0.880\n",
      "                   floods      0.695      0.863      0.581      0.958\n",
      "                    storm      0.643      0.795      0.539      0.944\n",
      "                     fire      0.369      0.528      0.284      0.990\n",
      "               earthquake      0.825      0.853      0.798      0.968\n",
      "                     cold      0.461      0.698      0.344      0.984\n",
      "            other_weather      0.205      0.433      0.134      0.947\n",
      "            direct_report      0.503      0.692      0.396      0.846\n",
      "======================================================================\n"
     ]
    }
   ],
   "source": [
    "# Call the training function\n",
    "train_grid_search(pipeline_function=flat_pipeline, clf=clf, parameters=parameters)"
   ]
  },
  {
   "cell_type": "markdown",
   "metadata": {},
   "source": [
    "### 8. Try improving your model further. Here are a few ideas:\n",
    "* try other machine learning algorithms\n",
    "* add other features besides the TF-IDF"
   ]
  },
  {
   "cell_type": "code",
   "execution_count": 21,
   "metadata": {},
   "outputs": [],
   "source": [
    "class SpecificStarting(BaseEstimator, TransformerMixin):\n",
    "    \n",
    "    def __init__(self, starting):\n",
    "        self.starting = starting\n",
    "\n",
    "    def check_starting(self, text):\n",
    "        sentence_list = nltk.sent_tokenize(text)\n",
    "        for sentence in sentence_list:\n",
    "            pos_tags = nltk.pos_tag(nltk.word_tokenize(sentence))\n",
    "            first_word, first_tag = pos_tags[0]\n",
    "            if first_tag.startswith(self.starting):\n",
    "                return True\n",
    "        return False\n",
    "\n",
    "    def fit(self, X, y=None):\n",
    "        return self\n",
    "\n",
    "    def transform(self, X):\n",
    "        X_tagged = pd.Series(X).apply(self.check_starting)\n",
    "        return pd.DataFrame(X_tagged)\n"
   ]
  },
  {
   "cell_type": "code",
   "execution_count": 22,
   "metadata": {},
   "outputs": [],
   "source": [
    "classifiers = [ MultiOutputClassifier(AdaBoostClassifier()) ]\n",
    "\n",
    "def union_pipeline(clf): # It doesn't add much to the scores\n",
    "    return Pipeline([\n",
    "        ('feat_extract', FeatureUnion([\n",
    "\n",
    "            ('term_freq', Pipeline([\n",
    "                ('counts', CountVectorizer(tokenizer=tokenize_word)),\n",
    "                ('tfidf', TfidfTransformer())\n",
    "            ])),\n",
    "            ('starting_verb', SpecificStarting('VB')),# Verb\n",
    "            ('starting_exist', SpecificStarting('EX')),# Existential\n",
    "            ('starting_poss', SpecificStarting('PRP$')),# Possessive pronoun\n",
    "            ('starting_inter', SpecificStarting('UH')),# Interjection\n",
    "        ])),\n",
    "\n",
    "        ('clf', clf)\n",
    "    ])"
   ]
  },
  {
   "cell_type": "code",
   "execution_count": 23,
   "metadata": {},
   "outputs": [
    {
     "name": "stdout",
     "output_type": "stream",
     "text": [
      "Training started: 2019-12-23 18:55:55.166711 \n",
      "Training MultiOutputClassifier(estimator=AdaBoostClassifier(algorithm='SAMME.R', base_estimator=None,\n",
      "          learning_rate=1.0, n_estimators=50, random_state=None),\n",
      "           n_jobs=1)\n",
      "Training time: 0:04:14.178344\n",
      "Classifier : MultiOutputClassifier(estimator=AdaBoostClassifier(algorithm='SAMME.R', base_estimator=None,\n",
      "          learning_rate=1.0, n_estimators=50, random_state=None),\n",
      "           n_jobs=1)\n"
     ]
    },
    {
     "name": "stderr",
     "output_type": "stream",
     "text": [
      "/opt/conda/lib/python3.6/site-packages/sklearn/metrics/classification.py:1135: UndefinedMetricWarning: F-score is ill-defined and being set to 0.0 in samples with no predicted labels.\n",
      "  'precision', 'predicted', average, warn_for)\n",
      "/opt/conda/lib/python3.6/site-packages/sklearn/metrics/classification.py:1137: UndefinedMetricWarning: F-score is ill-defined and being set to 0.0 in samples with no true labels.\n",
      "  'recall', 'true', average, warn_for)\n",
      "/opt/conda/lib/python3.6/site-packages/sklearn/metrics/classification.py:1135: UndefinedMetricWarning: Precision is ill-defined and being set to 0.0 in samples with no predicted labels.\n",
      "  'precision', 'predicted', average, warn_for)\n",
      "/opt/conda/lib/python3.6/site-packages/sklearn/metrics/classification.py:1137: UndefinedMetricWarning: Recall is ill-defined and being set to 0.0 in samples with no true labels.\n",
      "  'recall', 'true', average, warn_for)\n"
     ]
    },
    {
     "name": "stdout",
     "output_type": "stream",
     "text": [
      "|Accuracy  |              F1               |           Precision           |            Recall             |\n",
      "           |Micro   Macro   Weight  Samples|Micro   Macro   Weight  Samples|Micro   Macro   Weight  Samples\n",
      "    0.254   0.67    0.407   0.634   0.546   0.769   0.567   0.732   0.67    0.594   0.336   0.594   0.531   \n",
      "Saving file: model_f1_0.6704_2019-12-23 19-01-06.376864.pkl\n",
      "======================================================================\n",
      "                 Category         F1  Precision     Recall   Accuracy\n",
      "----------------------------------------------------------------------\n",
      "                  related      0.883      0.804      0.979      0.800\n",
      "                  request      0.609      0.766      0.506      0.887\n",
      "                    offer      0.000      0.000      0.000      0.994\n",
      "              aid_related      0.702      0.775      0.641      0.773\n",
      "             medical_help      0.371      0.595      0.270      0.930\n",
      "         medical_products      0.405      0.582      0.310      0.955\n",
      "        search_and_rescue      0.308      0.631      0.204      0.972\n",
      "                 security      0.043      0.214      0.024      0.979\n",
      "                 military      0.461      0.597      0.376      0.974\n",
      "                    water      0.688      0.761      0.629      0.963\n",
      "                     food      0.743      0.834      0.670      0.948\n",
      "                  shelter      0.613      0.732      0.527      0.939\n",
      "                 clothing      0.450      0.590      0.364      0.987\n",
      "                    money      0.411      0.568      0.322      0.980\n",
      "           missing_people      0.303      0.600      0.203      0.989\n",
      "                 refugees      0.312      0.445      0.240      0.964\n",
      "                    death      0.587      0.771      0.474      0.969\n",
      "                other_aid      0.238      0.554      0.151      0.870\n",
      "   infrastructure_related      0.184      0.454      0.115      0.933\n",
      "                transport      0.318      0.627      0.213      0.958\n",
      "                buildings      0.492      0.629      0.404      0.958\n",
      "              electricity      0.340      0.571      0.242      0.981\n",
      "                    tools      0.000      0.000      0.000      0.992\n",
      "                hospitals      0.140      0.222      0.102      0.989\n",
      "                    shops      0.057      0.200      0.033      0.995\n",
      "              aid_centers      0.057      0.103      0.039      0.985\n",
      "     other_infrastructure      0.156      0.392      0.097      0.952\n",
      "          weather_related      0.766      0.868      0.686      0.882\n",
      "                   floods      0.693      0.858      0.581      0.957\n",
      "                    storm      0.626      0.793      0.516      0.942\n",
      "                     fire      0.308      0.583      0.209      0.990\n",
      "               earthquake      0.815      0.859      0.776      0.967\n",
      "                     cold      0.444      0.689      0.328      0.984\n",
      "            other_weather      0.219      0.462      0.143      0.948\n",
      "            direct_report      0.508      0.728      0.390      0.851\n",
      "======================================================================\n"
     ]
    },
    {
     "data": {
      "text/plain": [
       "['model_f1_0.6704_2019-12-23 19-01-06.376864.pkl']"
      ]
     },
     "execution_count": 23,
     "metadata": {},
     "output_type": "execute_result"
    }
   ],
   "source": [
    "train_classifiers(union_pipeline, classifiers) "
   ]
  }
 ],
 "metadata": {
  "kernelspec": {
   "display_name": "Python 3",
   "language": "python",
   "name": "python3"
  },
  "language_info": {
   "codemirror_mode": {
    "name": "ipython",
    "version": 3
   },
   "file_extension": ".py",
   "mimetype": "text/x-python",
   "name": "python",
   "nbconvert_exporter": "python",
   "pygments_lexer": "ipython3",
   "version": "3.6.3"
  }
 },
 "nbformat": 4,
 "nbformat_minor": 2
}
